{
 "cells": [
  {
   "cell_type": "code",
   "execution_count": 177,
   "metadata": {},
   "outputs": [],
   "source": [
    "import math as mt\n",
    "import numpy as np\n",
    "import matplotlib.pyplot as plt"
   ]
  },
  {
   "cell_type": "code",
   "execution_count": 178,
   "metadata": {},
   "outputs": [],
   "source": [
    "#circle perimeter and radius\n",
    "n=10\n",
    "r=n/2/mt.pi\n",
    "\n",
    "#length of step\n",
    "l=n/100\n",
    "\n",
    "#we divided the circle into int(n/l) parts\n",
    "partition=int(n/l)\n",
    "\n",
    "#number of step\n",
    "num=100\n",
    "\n",
    "#probability of walking clockwise\n",
    "p=0.9\n",
    "\n",
    "#orginal position\n",
    "orgin=0\n",
    "o=orgin"
   ]
  },
  {
   "cell_type": "code",
   "execution_count": 179,
   "metadata": {},
   "outputs": [],
   "source": [
    "#one step RW function, return the updated position(float)\n",
    "def SimpleRW(o,p,l,n):\n",
    "    step=np.random.choice(np.array([-l,l]),p=[1-p,p])\n",
    "    return (step+o)%n"
   ]
  },
  {
   "cell_type": "code",
   "execution_count": 180,
   "metadata": {},
   "outputs": [],
   "source": [
    "#plot Circle\n",
    "def Circle(r):\n",
    "    c1=np.linspace(-r,r,1000)\n",
    "    c2=np.sqrt(r**2-c1**2)\n",
    "    plt.plot(c1,c2,c1,-c2,c='b')\n",
    "\n",
    "#Save pic function\n",
    "def SavePlot(i):\n",
    "    txt='{}.png'.format(i)\n",
    "    plt.savefig(txt)\n",
    "    return txt\n",
    "\n",
    "#Get x and y\n",
    "def GetXY(o,n,r):\n",
    "    x=-r*mt.cos(o/n*2*mt.pi)\n",
    "    y=r*mt.sin(o/n*2*mt.pi)\n",
    "    return x,y\n",
    "\n",
    "#plot position\n",
    "def Position(x,y,r,i):\n",
    "    Circle(r)\n",
    "    plt.plot(x,y,marker='o',markerfacecolor='r')\n",
    "    plt.title('Random Walk in a Circle\\n (P(Walking clockwise)={})'.format(p))\n",
    "    filename=SavePlot(i+1)\n",
    "    plt.clf()\n",
    "    return filename"
   ]
  },
  {
   "cell_type": "code",
   "execution_count": 181,
   "metadata": {},
   "outputs": [
    {
     "data": {
      "text/plain": [
       "'Track of Position.png'"
      ]
     },
     "execution_count": 181,
     "metadata": {},
     "output_type": "execute_result"
    },
    {
     "data": {
      "image/png": "[encoded data removed]",
      "text/plain": [
       "<Figure size 432x288 with 1 Axes>"
      ]
     },
     "metadata": {
      "needs_background": "light"
     },
     "output_type": "display_data"
    }
   ],
   "source": [
    "filenames=[]\n",
    "position=[]\n",
    "\n",
    "for i in range(num):\n",
    "    o=SimpleRW(o,p,l,n)\n",
    "    position.append(o)\n",
    "    x,y=GetXY(o,n,r)\n",
    "    filename=Position(x,y,r,i)\n",
    "    filenames.append(filename)\n",
    "\n",
    "plt.plot(np.linspace(1,num,num),position)\n",
    "plt.xlabel('Number of Steps')\n",
    "plt.ylabel('Position')\n",
    "plt.title('Track of Position')\n",
    "SavePlot('Track of Position')"
   ]
  },
  {
   "cell_type": "code",
   "execution_count": 182,
   "metadata": {},
   "outputs": [],
   "source": [
    "import imageio\n",
    "def GIF(filenames,title,duration=0.1):\n",
    "    images=[]\n",
    "    for filename in filenames:\n",
    "        images.append(imageio.imread(filename))\n",
    "    imageio.mimsave('{}.gif'.format(title),images,duration=duration)"
   ]
  },
  {
   "cell_type": "code",
   "execution_count": 183,
   "metadata": {},
   "outputs": [],
   "source": [
    "GIF(filenames,'final')\n"
   ]
  },
  {
   "cell_type": "markdown",
   "metadata": {},
   "source": [
    "#Markov Chain Method\n"
   ]
  },
  {
   "cell_type": "code",
   "execution_count": 184,
   "metadata": {},
   "outputs": [],
   "source": [
    "def Markov_Chain(p):\n",
    "\n",
    "    #initialize transtion matrix\n",
    "    TM=np.zeros((partition,partition))\n",
    "    for i in range(partition):\n",
    "        for j in range(partition):\n",
    "            if i==(j+1)%partition:\n",
    "                TM[i][j]=1-p\n",
    "            if i==(j-1)%partition:\n",
    "                TM[i][j]=p\n",
    "\n",
    "    #initial distribution\n",
    "    ini=np.zeros(partition)\n",
    "    ini[int(orgin/l)]=1\n",
    "    return ini,TM\n",
    "\n",
    "def Mth_dis(m,ini,TM):\n",
    "    return np.dot(ini,np.linalg.matrix_power(TM,m))\n"
   ]
  },
  {
   "cell_type": "code",
   "execution_count": 185,
   "metadata": {},
   "outputs": [],
   "source": [
    "filenames=[]\n",
    "step=0.01\n",
    "for p in np.arange(0,1,step):\n",
    "    distributions=[]\n",
    "    ini,TM=Markov_Chain(p)\n",
    "    for i in range(num):\n",
    "        distributions.append(Mth_dis(i,ini,TM))\n",
    "    plt.figure(figsize=(10,10))\n",
    "    plt.imshow(distributions)\n",
    "    plt.ylabel('number of steps')\n",
    "    plt.xlabel('position on the circle\\n (divide the circle to {} parts)'.format(partition))\n",
    "    plt.title('P(walking clockwise)={}'.format(round(p,3)))\n",
    "    filenames.append(SavePlot(p))\n",
    "    plt.clf()\n",
    "    plt.close()\n",
    "title='Markov Chain RW in a circle'\n",
    "GIF(filenames,title,0.1)"
   ]
  },
  {
   "cell_type": "code",
   "execution_count": null,
   "metadata": {},
   "outputs": [],
   "source": []
  }
 ],
 "metadata": {
  "kernelspec": {
   "display_name": "Python 3",
   "language": "python",
   "name": "python3"
  },
  "language_info": {
   "codemirror_mode": {
    "name": "ipython",
    "version": 3
   },
   "file_extension": ".py",
   "mimetype": "text/x-python",
   "name": "python",
   "nbconvert_exporter": "python",
   "pygments_lexer": "ipython3",
   "version": "3.6.9"
  }
 },
 "nbformat": 4,
 "nbformat_minor": 4
}
